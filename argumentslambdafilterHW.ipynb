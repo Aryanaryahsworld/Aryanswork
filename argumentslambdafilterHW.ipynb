{
  "nbformat": 4,
  "nbformat_minor": 0,
  "metadata": {
    "colab": {
      "provenance": []
    },
    "kernelspec": {
      "name": "python3",
      "display_name": "Python 3"
    },
    "language_info": {
      "name": "python"
    }
  },
  "cells": [
    {
      "cell_type": "code",
      "source": [
        "numbers = range(20)\n",
        "even_numbers = list(filter(lambda x: x % 2 == 0, numbers))"
      ],
      "metadata": {
        "id": "tGZcp48QElth"
      },
      "execution_count": 28,
      "outputs": []
    },
    {
      "source": [
        "[0, 2, 4, 6, 8, 10, 12, 14, 16, 18]"
      ],
      "cell_type": "code",
      "metadata": {
        "colab": {
          "base_uri": "https://localhost:8080/"
        },
        "id": "CtJ83-18EqPp",
        "outputId": "b924233d-71bd-4223-fa72-0c9c04939e52"
      },
      "execution_count": 62,
      "outputs": [
        {
          "output_type": "execute_result",
          "data": {
            "text/plain": [
              "[0, 2, 4, 6, 8, 10, 12, 14, 16, 18]"
            ]
          },
          "metadata": {},
          "execution_count": 62
        }
      ]
    },
    {
      "cell_type": "code",
      "source": [
        "evens = list(filter(lambda x: x % 2 == 0, range(1, 21)))\n",
        "evens"
      ],
      "metadata": {
        "colab": {
          "base_uri": "https://localhost:8080/"
        },
        "id": "DxB1hn87FU5I",
        "outputId": "219577ad-7ae8-41be-d7e8-321b0505dcf0"
      },
      "execution_count": 26,
      "outputs": [
        {
          "output_type": "execute_result",
          "data": {
            "text/plain": [
              "[2, 4, 6, 8, 10, 12, 14, 16, 18, 20]"
            ]
          },
          "metadata": {},
          "execution_count": 26
        }
      ]
    },
    {
      "cell_type": "code",
      "source": [
        "odds = list(filter(lambda x: x % 2 != 0, range(1, 21)))\n",
        "odds"
      ],
      "metadata": {
        "colab": {
          "base_uri": "https://localhost:8080/"
        },
        "id": "U8sUwfHYIGit",
        "outputId": "cd70026e-dceb-46e8-c870-b9bb71fa2d88"
      },
      "execution_count": 94,
      "outputs": [
        {
          "output_type": "execute_result",
          "data": {
            "text/plain": [
              "[1, 3, 5, 7, 9, 11, 13, 15, 17, 19]"
            ]
          },
          "metadata": {},
          "execution_count": 94
        }
      ]
    },
    {
      "cell_type": "code",
      "source": [
        "positives = list(filter(lambda x: x > 0, range(-10, 11)))\n",
        "positives"
      ],
      "metadata": {
        "colab": {
          "base_uri": "https://localhost:8080/"
        },
        "id": "XJG3M1ZzJFuF",
        "outputId": "206461c9-93e8-494a-96e5-2db9827bd401"
      },
      "execution_count": 93,
      "outputs": [
        {
          "output_type": "execute_result",
          "data": {
            "text/plain": [
              "[1, 2, 3, 4, 5, 6, 7, 8, 9, 10]"
            ]
          },
          "metadata": {},
          "execution_count": 93
        }
      ]
    },
    {
      "cell_type": "code",
      "source": [
        "negatives = list(filter(lambda x: x < 0, range(-10, 11)))\n",
        "negatives"
      ],
      "metadata": {
        "colab": {
          "base_uri": "https://localhost:8080/"
        },
        "id": "y-3wgBvUJTnw",
        "outputId": "79f17566-e613-45c0-9620-5b09c71165bb"
      },
      "execution_count": 92,
      "outputs": [
        {
          "output_type": "execute_result",
          "data": {
            "text/plain": [
              "[-10, -9, -8, -7, -6, -5, -4, -3, -2, -1]"
            ]
          },
          "metadata": {},
          "execution_count": 92
        }
      ]
    },
    {
      "cell_type": "code",
      "source": [
        "greater_than_five = list(filter(lambda x: x > 5, range(1, 11)))\n",
        "greater_than_five"
      ],
      "metadata": {
        "colab": {
          "base_uri": "https://localhost:8080/"
        },
        "id": "D2r0M1skJY5c",
        "outputId": "dec078a1-76eb-494d-c79e-fd9e583b8263"
      },
      "execution_count": 91,
      "outputs": [
        {
          "output_type": "execute_result",
          "data": {
            "text/plain": [
              "[6, 7, 8, 9, 10]"
            ]
          },
          "metadata": {},
          "execution_count": 91
        }
      ]
    },
    {
      "cell_type": "code",
      "source": [
        "n = list(filter(lambda x: bool(x.strip()), ['', 'text', ' ', 'word', '']))\n",
        "n"
      ],
      "metadata": {
        "colab": {
          "base_uri": "https://localhost:8080/"
        },
        "id": "FKxU_D-FJiIc",
        "outputId": "a62d917f-622f-4f37-f9c2-1dea99109f3d"
      },
      "execution_count": 52,
      "outputs": [
        {
          "output_type": "execute_result",
          "data": {
            "text/plain": [
              "['text', 'word']"
            ]
          },
          "metadata": {},
          "execution_count": 52
        }
      ]
    },
    {
      "cell_type": "code",
      "source": [
        "multiply = lambda x, y, z: x * y * z\n",
        "result = multiply(2, 3, 4)  # Returns 24\n",
        "result"
      ],
      "metadata": {
        "colab": {
          "base_uri": "https://localhost:8080/"
        },
        "id": "532WzfdPKyFT",
        "outputId": "f6a2ab6c-8623-4f18-99f9-1d9b695b6be9"
      },
      "execution_count": 53,
      "outputs": [
        {
          "output_type": "execute_result",
          "data": {
            "text/plain": [
              "24"
            ]
          },
          "metadata": {},
          "execution_count": 53
        }
      ]
    },
    {
      "cell_type": "code",
      "source": [
        "reverse_str = lambda s: s[::-1]\n",
        "result = reverse_str(\"annairb\")  # Returns 'olleh'\n",
        "result"
      ],
      "metadata": {
        "colab": {
          "base_uri": "https://localhost:8080/",
          "height": 35
        },
        "id": "7eCI5tfzLn53",
        "outputId": "d950ce9f-1251-4c53-f968-b857180f4c52"
      },
      "execution_count": 50,
      "outputs": [
        {
          "output_type": "execute_result",
          "data": {
            "text/plain": [
              "'brianna'"
            ],
            "application/vnd.google.colaboratory.intrinsic+json": {
              "type": "string"
            }
          },
          "metadata": {},
          "execution_count": 50
        }
      ]
    },
    {
      "cell_type": "code",
      "source": [
        "power = lambda x, n: x ** n\n",
        "result = power(2, 3)  # Returns 8\n",
        "result"
      ],
      "metadata": {
        "colab": {
          "base_uri": "https://localhost:8080/"
        },
        "id": "J0DnFBkOLtd6",
        "outputId": "db43bd0c-5866-44d8-fe3a-e85059079847"
      },
      "execution_count": 49,
      "outputs": [
        {
          "output_type": "execute_result",
          "data": {
            "text/plain": [
              "8"
            ]
          },
          "metadata": {},
          "execution_count": 49
        }
      ]
    },
    {
      "cell_type": "code",
      "source": [
        "full_name = lambda first, last, lastest, lastumlast: f\"{first} {last} {lastest} {lastumlast}\"\n",
        "result = full_name(\"Rambo\", \"aryan\", \"is\",\"great\")  # Returns 'John Doe'\n",
        "result"
      ],
      "metadata": {
        "colab": {
          "base_uri": "https://localhost:8080/",
          "height": 35
        },
        "id": "4bq99PC9Lx8q",
        "outputId": "f73f2fb3-58cf-48fe-f9eb-59776e65dc29"
      },
      "execution_count": 48,
      "outputs": [
        {
          "output_type": "execute_result",
          "data": {
            "text/plain": [
              "'Rambo aryan is great'"
            ],
            "application/vnd.google.colaboratory.intrinsic+json": {
              "type": "string"
            }
          },
          "metadata": {},
          "execution_count": 48
        }
      ]
    },
    {
      "cell_type": "code",
      "source": [
        "import operator\n",
        "tuples = [(1, 'one'), (2, 'two'), (3, 'three'), (4, 'four')]\n",
        "tuples.sort(key=lambda x: x[1])\n",
        "tuples"
      ],
      "metadata": {
        "colab": {
          "base_uri": "https://localhost:8080/"
        },
        "id": "1DqfpwkML7vb",
        "outputId": "aa6a3d12-27b7-43d4-c54a-8088c2b0b26c"
      },
      "execution_count": 85,
      "outputs": [
        {
          "output_type": "execute_result",
          "data": {
            "text/plain": [
              "[(4, 'four'), (1, 'one'), (3, 'three'), (2, 'two')]"
            ]
          },
          "metadata": {},
          "execution_count": 85
        }
      ]
    },
    {
      "cell_type": "code",
      "source": [
        "import datetime\n",
        "format_date = lambda x: x.strftime('%Y-%m-%d')\n",
        "result = format_date(datetime.date.today())  # Returns\n",
        "result"
      ],
      "metadata": {
        "colab": {
          "base_uri": "https://localhost:8080/",
          "height": 35
        },
        "id": "xkiUq9UBMO_R",
        "outputId": "e1ae7d9b-6c26-4ece-cce8-1cc2fc0c2040"
      },
      "execution_count": 84,
      "outputs": [
        {
          "output_type": "execute_result",
          "data": {
            "text/plain": [
              "'2024-01-22'"
            ],
            "application/vnd.google.colaboratory.intrinsic+json": {
              "type": "string"
            }
          },
          "metadata": {},
          "execution_count": 84
        }
      ]
    },
    {
      "cell_type": "code",
      "source": [
        "import math\n",
        "hypotenuse = lambda a, b: math.sqrt(a**2 + b**2)\n",
        "result = hypotenuse(3, 4)\n",
        "# 'result' will be 5.0, the hypotenuse of a right triangle with sides of length 3 and 4.\n",
        "result"
      ],
      "metadata": {
        "colab": {
          "base_uri": "https://localhost:8080/"
        },
        "id": "fk6aahsaMX7n",
        "outputId": "fc6d20e9-3543-4311-9f5f-994e4463bd97"
      },
      "execution_count": 83,
      "outputs": [
        {
          "output_type": "execute_result",
          "data": {
            "text/plain": [
              "5.0"
            ]
          },
          "metadata": {},
          "execution_count": 83
        }
      ]
    },
    {
      "cell_type": "code",
      "source": [
        "is_positive = lambda x: x > 0\n",
        "result = is_positive(5)  # result is False\n",
        "result"
      ],
      "metadata": {
        "colab": {
          "base_uri": "https://localhost:8080/"
        },
        "id": "DUtSYCRpMlaY",
        "outputId": "8072f526-03f8-4215-9af3-5872c154b077"
      },
      "execution_count": 82,
      "outputs": [
        {
          "output_type": "execute_result",
          "data": {
            "text/plain": [
              "True"
            ]
          },
          "metadata": {},
          "execution_count": 82
        }
      ]
    },
    {
      "cell_type": "code",
      "source": [
        "concatenate = lambda a, b: a + b\n",
        "result = concatenate(\"Hello, \", \"Santaclara!\")  # result is \"Hello, World!\"\n",
        "result"
      ],
      "metadata": {
        "colab": {
          "base_uri": "https://localhost:8080/",
          "height": 35
        },
        "id": "dsZZc8pOM0bq",
        "outputId": "2ff87445-c584-4f66-c18d-f99d0fc0ffaf"
      },
      "execution_count": 35,
      "outputs": [
        {
          "output_type": "execute_result",
          "data": {
            "text/plain": [
              "'Hello, Santaclara!'"
            ],
            "application/vnd.google.colaboratory.intrinsic+json": {
              "type": "string"
            }
          },
          "metadata": {},
          "execution_count": 35
        }
      ]
    },
    {
      "cell_type": "code",
      "source": [
        "numbers = [1, 2, 3, 4, 5]\n",
        "result = map(lambda x: x * 2, numbers)\n",
        "print(list(result))\n"
      ],
      "metadata": {
        "colab": {
          "base_uri": "https://localhost:8080/"
        },
        "id": "YvQ8BLyPetAi",
        "outputId": "e1ab5099-c39d-4978-e1d8-0d182104e6a0"
      },
      "execution_count": 36,
      "outputs": [
        {
          "output_type": "stream",
          "name": "stdout",
          "text": [
            "[2, 4, 6, 8, 10]\n"
          ]
        }
      ]
    },
    {
      "cell_type": "code",
      "source": [
        "words = [\"hello\", \"world\", \"python\", \"programming\"]\n",
        "result = map(str.upper, words)\n",
        "print(list(result))\n"
      ],
      "metadata": {
        "colab": {
          "base_uri": "https://localhost:8080/"
        },
        "id": "gnTHUbzgfEre",
        "outputId": "c5cd3382-b5a2-4276-c742-482fd95b704b"
      },
      "execution_count": 42,
      "outputs": [
        {
          "output_type": "stream",
          "name": "stdout",
          "text": [
            "['HELLO', 'WORLD', 'PYTHON', 'PROGRAMMING']\n"
          ]
        }
      ]
    },
    {
      "cell_type": "code",
      "source": [
        "numbers = [1, 2, 3, 4, 5]\n",
        "result = map(lambda x: x ** 2, numbers)\n",
        "print(list(result))\n"
      ],
      "metadata": {
        "colab": {
          "base_uri": "https://localhost:8080/"
        },
        "id": "SRANmsQQfIig",
        "outputId": "5a42d132-34a5-4401-9304-e40513a001a3"
      },
      "execution_count": 43,
      "outputs": [
        {
          "output_type": "stream",
          "name": "stdout",
          "text": [
            "[1, 4, 9, 16, 25]\n"
          ]
        }
      ]
    },
    {
      "cell_type": "code",
      "source": [
        "words = [\"map\", \"reduce\", \"filter\", \"lambda\"]\n",
        "result = map(len, words)\n",
        "print(list(result))\n"
      ],
      "metadata": {
        "colab": {
          "base_uri": "https://localhost:8080/"
        },
        "id": "jImFQTvyfW99",
        "outputId": "18684f71-9e1a-4567-9d14-ec5329532421"
      },
      "execution_count": 40,
      "outputs": [
        {
          "output_type": "stream",
          "name": "stdout",
          "text": [
            "[3, 6, 6, 6]\n"
          ]
        }
      ]
    },
    {
      "cell_type": "code",
      "source": [
        "str_numbers = [\"1\", \"2\", \"3\", \"4\", \"5\"]\n",
        "result = map(int, str_numbers)\n",
        "print(list(result))\n"
      ],
      "metadata": {
        "colab": {
          "base_uri": "https://localhost:8080/"
        },
        "id": "6pmpmN1FfY57",
        "outputId": "445731f8-d361-403e-f7e2-ce6378235c97"
      },
      "execution_count": 39,
      "outputs": [
        {
          "output_type": "stream",
          "name": "stdout",
          "text": [
            "[1, 2, 3, 4, 5]\n"
          ]
        }
      ]
    },
    {
      "cell_type": "code",
      "source": [
        "from functools import reduce\n",
        "\n",
        "numbers = [1, 2, 3, 4, 5]\n",
        "result = reduce(lambda x, y: x + y, numbers)\n",
        "print(result)\n"
      ],
      "metadata": {
        "colab": {
          "base_uri": "https://localhost:8080/"
        },
        "id": "0LV2QKHlfb4F",
        "outputId": "80b80274-b8a9-46f5-a174-1e11b1c34e52"
      },
      "execution_count": 6,
      "outputs": [
        {
          "output_type": "stream",
          "name": "stdout",
          "text": [
            "15\n"
          ]
        }
      ]
    },
    {
      "cell_type": "code",
      "source": [
        "from functools import reduce\n",
        "\n",
        "numbers = [1, 2, 3, 4, 5]\n",
        "result = reduce(lambda x, y: x * y, numbers)\n",
        "print(result)\n"
      ],
      "metadata": {
        "colab": {
          "base_uri": "https://localhost:8080/"
        },
        "id": "npNaISh4fe9s",
        "outputId": "7ae04717-305f-4dc3-b6e0-7c8eef8f8603"
      },
      "execution_count": 26,
      "outputs": [
        {
          "output_type": "stream",
          "name": "stdout",
          "text": [
            "120\n"
          ]
        }
      ]
    },
    {
      "cell_type": "code",
      "source": [
        "from functools import reduce\n",
        "\n",
        "numbers = [5, 8, 6, 2, 3, 7]\n",
        "result = reduce(lambda x, y: x if x > y else y, numbers)\n",
        "print(result)\n"
      ],
      "metadata": {
        "colab": {
          "base_uri": "https://localhost:8080/"
        },
        "id": "xqpjMxqefkg2",
        "outputId": "87f32b2b-7937-4b3c-926d-f74151c8d8e6"
      },
      "execution_count": 25,
      "outputs": [
        {
          "output_type": "stream",
          "name": "stdout",
          "text": [
            "8\n"
          ]
        }
      ]
    },
    {
      "cell_type": "code",
      "source": [],
      "metadata": {
        "id": "0dLuN7wdClOO"
      },
      "execution_count": 24,
      "outputs": []
    },
    {
      "cell_type": "code",
      "source": [
        "from functools import reduce\n",
        "\n",
        "words = [\"Python\", \"is\", \"awesome\"]\n",
        "result = reduce(lambda x, y: x + \" \" + y, words)\n",
        "print(result)\n"
      ],
      "metadata": {
        "colab": {
          "base_uri": "https://localhost:8080/"
        },
        "id": "4lfgC58FfoGz",
        "outputId": "27b1a7eb-aee9-4d95-b9cd-47f41bde6bf2"
      },
      "execution_count": 74,
      "outputs": [
        {
          "output_type": "stream",
          "name": "stdout",
          "text": [
            "Python is awesome\n"
          ]
        }
      ]
    },
    {
      "cell_type": "code",
      "source": [
        "from functools import reduce\n",
        "\n",
        "binary_digits = [1, 0, 1, 1, 0]\n",
        "result = reduce(lambda x, y: x * 2 + y, binary_digits)\n",
        "print(result)\n"
      ],
      "metadata": {
        "colab": {
          "base_uri": "https://localhost:8080/"
        },
        "id": "5X2vHLzkfrEd",
        "outputId": "8144ec92-798f-4127-d456-859581a70ce9"
      },
      "execution_count": 24,
      "outputs": [
        {
          "output_type": "stream",
          "name": "stdout",
          "text": [
            "22\n"
          ]
        }
      ]
    },
    {
      "cell_type": "code",
      "source": [
        "\n",
        "t = [45, 55, 75, 70, 46, 32, 47, 90, 99989, 98, 9779, 5000]\n",
        "result = filter(lambda x: x%5==0, t)\n",
        "print(list(result))"
      ],
      "metadata": {
        "colab": {
          "base_uri": "https://localhost:8080/"
        },
        "id": "J5WPZdeJoB3o",
        "outputId": "b78c1b50-09ca-4de3-e8af-4b3fb8b87b71"
      },
      "execution_count": 13,
      "outputs": [
        {
          "output_type": "stream",
          "name": "stdout",
          "text": [
            "[45, 55, 75, 70, 90, 5000]\n"
          ]
        }
      ]
    },
    {
      "source": [
        "y = [45, 55, 75, 70, 46, 32, 47, 90, 99989, 98, 9779, 5000]\n",
        "result = filter(lambda x: x%5==0, y)\n",
        "print(list(result))"
      ],
      "cell_type": "code",
      "metadata": {
        "colab": {
          "base_uri": "https://localhost:8080/"
        },
        "id": "6vvrmsOL1OMo",
        "outputId": "b61e647c-3f1f-4a87-a9de-84fcc4c81803"
      },
      "execution_count": 46,
      "outputs": [
        {
          "output_type": "stream",
          "name": "stdout",
          "text": [
            "[45, 55, 75, 70, 90, 5000]\n"
          ]
        }
      ]
    },
    {
      "source": [
        "\n",
        "y = [45, 55, 75, 70, 46, 32, 47, 90, 99989, 98, 9779, 5000]\n",
        "result = filter(lambda x: x%10==0, y)\n",
        "print(list(result))"
      ],
      "cell_type": "code",
      "metadata": {
        "colab": {
          "base_uri": "https://localhost:8080/"
        },
        "id": "eKO1rZio0JIy",
        "outputId": "cca9a470-4b64-4815-b381-530ff32e9b49"
      },
      "execution_count": 47,
      "outputs": [
        {
          "output_type": "stream",
          "name": "stdout",
          "text": [
            "[70, 90, 5000]\n"
          ]
        }
      ]
    },
    {
      "source": [
        "result = reduce(lambda x, y: x % 5 == 0, y)"
      ],
      "cell_type": "code",
      "metadata": {
        "colab": {
          "base_uri": "https://localhost:8080/",
          "height": 208
        },
        "id": "B1WSThaoxfqd",
        "outputId": "47ce5450-011f-4be8-82c8-fda327307b8a"
      },
      "execution_count": 33,
      "outputs": [
        {
          "output_type": "error",
          "ename": "NameError",
          "evalue": "name 'reduce' is not defined",
          "traceback": [
            "\u001b[0;31m---------------------------------------------------------------------------\u001b[0m",
            "\u001b[0;31mNameError\u001b[0m                                 Traceback (most recent call last)",
            "\u001b[0;32m<ipython-input-33-9ee67019f047>\u001b[0m in \u001b[0;36m<cell line: 1>\u001b[0;34m()\u001b[0m\n\u001b[0;32m----> 1\u001b[0;31m \u001b[0mresult\u001b[0m \u001b[0;34m=\u001b[0m \u001b[0mreduce\u001b[0m\u001b[0;34m(\u001b[0m\u001b[0;32mlambda\u001b[0m \u001b[0mx\u001b[0m\u001b[0;34m,\u001b[0m \u001b[0my\u001b[0m\u001b[0;34m:\u001b[0m \u001b[0mx\u001b[0m \u001b[0;34m%\u001b[0m \u001b[0;36m5\u001b[0m \u001b[0;34m==\u001b[0m \u001b[0;36m0\u001b[0m\u001b[0;34m,\u001b[0m \u001b[0my\u001b[0m\u001b[0;34m)\u001b[0m\u001b[0;34m\u001b[0m\u001b[0;34m\u001b[0m\u001b[0m\n\u001b[0m",
            "\u001b[0;31mNameError\u001b[0m: name 'reduce' is not defined"
          ]
        }
      ]
    },
    {
      "cell_type": "code",
      "source": [
        "def dfs(graph, start, visited=None):\n",
        "    if visited is None:\n",
        "        visited = set()\n",
        "\n",
        "    visited.add(start)\n",
        "    print(start)  # Output the node\n",
        "\n",
        "    for neighbor in graph[start]:\n",
        "        if neighbor not in visited:\n",
        "            dfs(graph, neighbor, visited)\n",
        "\n",
        "    return visited\n",
        "\n",
        "# Define the graph\n",
        "graph = {\n",
        "    'A': ['B'],\n",
        "    'B': ['A'],\n",
        "    'C': ['A', 'D'],\n",
        "    'D': ['B', 'C', 'E'],\n",
        "    'E': ['D']\n",
        "}\n",
        "\n",
        "# Perform DFS starting from node 'A'\n",
        "visited_nodes = dfs(graph, 'A')\n",
        "print(\"Visited nodes:\", visited_nodes)\n"
      ],
      "metadata": {
        "colab": {
          "base_uri": "https://localhost:8080/"
        },
        "id": "32aec_9Gvl-C",
        "outputId": "ea4706dd-5444-4781-9aff-bf6ab65dbb8c"
      },
      "execution_count": 1,
      "outputs": [
        {
          "output_type": "stream",
          "name": "stdout",
          "text": [
            "A\n",
            "B\n",
            "Visited nodes: {'A', 'B'}\n"
          ]
        }
      ]
    },
    {
      "cell_type": "code",
      "source": [
        "from types import ModuleType\n",
        "from os import makedev\n",
        "class Car:\n",
        "  def __init__(self, make, model, year, color):\n",
        "    self.make = make\n",
        "    self.model = model\n",
        "    self.year = year\n",
        "    self.color = color\n",
        "\n",
        "\n",
        "\n",
        "def drive (self):\n",
        "  print('the car is driving.')\n",
        "\n",
        "\n",
        "def turn(self,direction)\n",
        "print('the car is turning {}.'.format(direction))\n",
        "\n",
        "def stop()\n"
      ],
      "metadata": {
        "colab": {
          "base_uri": "https://localhost:8080/",
          "height": 140
        },
        "id": "J_wXdIfVrqWS",
        "outputId": "9a51b0d5-3f04-40d5-f918-91eb5feea733"
      },
      "execution_count": 5,
      "outputs": [
        {
          "output_type": "error",
          "ename": "SyntaxError",
          "evalue": "expected ':' (<ipython-input-5-851e80453a7b>, line 16)",
          "traceback": [
            "\u001b[0;36m  File \u001b[0;32m\"<ipython-input-5-851e80453a7b>\"\u001b[0;36m, line \u001b[0;32m16\u001b[0m\n\u001b[0;31m    def turn(self,direction)\u001b[0m\n\u001b[0m                            ^\u001b[0m\n\u001b[0;31mSyntaxError\u001b[0m\u001b[0;31m:\u001b[0m expected ':'\n"
          ]
        }
      ]
    },
    {
      "source": [
        "class Car:\n",
        "  def __init__(self, make, model, year, color):\n",
        "    self.make = make\n",
        "    self.model = model\n",
        "    self.year = year\n",
        "    self.color = color\n",
        "\n",
        "  def drive(self):\n",
        "    print(\"The car is driving.\")\n",
        "\n",
        "  def turn(self, direction):\n",
        "    print(\"The car is turning {}.\".format(direction))\n",
        "\n",
        "  def stop(self):\n",
        "    print(\"The car is stopping.\")\n",
        "  car = Car(\"Honda\", \"Civic\", 2010, \"red\")\n",
        "  car.drive()\n",
        "  car.turn(\"right\")\n",
        "  car.stop()"
      ],
      "cell_type": "code",
      "metadata": {
        "colab": {
          "base_uri": "https://localhost:8080/"
        },
        "id": "EcL3rN2NrVvL",
        "outputId": "9432ef45-72b4-4940-a6af-45562ac81de9"
      },
      "execution_count": 10,
      "outputs": [
        {
          "output_type": "stream",
          "name": "stdout",
          "text": [
            "The car is driving.\n",
            "The car is turning right.\n",
            "The car is stopping.\n"
          ]
        }
      ]
    },
    {
      "cell_type": "code",
      "source": [
        "class Parent:\n",
        "    def greet(self):\n",
        "        return \"Hello from Parent\"\n",
        "\n",
        "class Child(Parent):\n",
        "    def greet(self):\n",
        "        return \"Hello from Child\"\n",
        "\n",
        "child = Child()\n",
        "print(child.greet())  # Output: Hello from Child\n",
        "#method overriding"
      ],
      "metadata": {
        "colab": {
          "base_uri": "https://localhost:8080/"
        },
        "id": "buV7poX7r1Dl",
        "outputId": "b7ba3370-6449-4063-c389-742034ab79ec"
      },
      "execution_count": 13,
      "outputs": [
        {
          "output_type": "stream",
          "name": "stdout",
          "text": [
            "Hello from Child\n"
          ]
        }
      ]
    },
    {
      "cell_type": "code",
      "source": [
        "class Dog:#classes and objects\n",
        "    def __init__(self, name):#here __init__ method is used and it is a constructor\n",
        "\n",
        "      self.name = name\n",
        "\n",
        "\n",
        "    def speak(self):\n",
        "      return \"woof!\"\n",
        "\n",
        "\n",
        "dog = Dog('tommy')\n",
        "print(dog.name)\n",
        "print(dog.speak())\n"
      ],
      "metadata": {
        "colab": {
          "base_uri": "https://localhost:8080/"
        },
        "id": "hc2VBUyM23cw",
        "outputId": "c0ed0e68-4f8b-4d11-d05a-921138bd1904"
      },
      "execution_count": 46,
      "outputs": [
        {
          "output_type": "stream",
          "name": "stdout",
          "text": [
            "tommy\n",
            "woof!\n"
          ]
        }
      ]
    },
    {
      "source": [
        "class Dog:\n",
        "    def init(self, name): # here the ___init function is not there so thats its not taking any arguments\n",
        "      self.name = name\n",
        "\n",
        "\n",
        "    def speak(self):\n",
        "      return \"woof!\"\n",
        "\n",
        "\n",
        "dog = Dog(\"rocky\")\n",
        "print(dog.name)\n",
        "print(dog.speak())"
      ],
      "cell_type": "code",
      "metadata": {
        "colab": {
          "base_uri": "https://localhost:8080/",
          "height": 276
        },
        "id": "LBbbju0T6POb",
        "outputId": "273f6c27-3266-49f2-b6f5-7aa490a84a50"
      },
      "execution_count": 47,
      "outputs": [
        {
          "output_type": "error",
          "ename": "TypeError",
          "evalue": "Dog() takes no arguments",
          "traceback": [
            "\u001b[0;31m---------------------------------------------------------------------------\u001b[0m",
            "\u001b[0;31mTypeError\u001b[0m                                 Traceback (most recent call last)",
            "\u001b[0;32m<ipython-input-47-3680b645984e>\u001b[0m in \u001b[0;36m<cell line: 10>\u001b[0;34m()\u001b[0m\n\u001b[1;32m      8\u001b[0m \u001b[0;34m\u001b[0m\u001b[0m\n\u001b[1;32m      9\u001b[0m \u001b[0;34m\u001b[0m\u001b[0m\n\u001b[0;32m---> 10\u001b[0;31m \u001b[0mdog\u001b[0m \u001b[0;34m=\u001b[0m \u001b[0mDog\u001b[0m\u001b[0;34m(\u001b[0m\u001b[0;34m\"rocky\"\u001b[0m\u001b[0;34m)\u001b[0m\u001b[0;34m\u001b[0m\u001b[0;34m\u001b[0m\u001b[0m\n\u001b[0m\u001b[1;32m     11\u001b[0m \u001b[0mprint\u001b[0m\u001b[0;34m(\u001b[0m\u001b[0mdog\u001b[0m\u001b[0;34m.\u001b[0m\u001b[0mname\u001b[0m\u001b[0;34m)\u001b[0m\u001b[0;34m\u001b[0m\u001b[0;34m\u001b[0m\u001b[0m\n\u001b[1;32m     12\u001b[0m \u001b[0mprint\u001b[0m\u001b[0;34m(\u001b[0m\u001b[0mdog\u001b[0m\u001b[0;34m.\u001b[0m\u001b[0mspeak\u001b[0m\u001b[0;34m(\u001b[0m\u001b[0;34m)\u001b[0m\u001b[0;34m)\u001b[0m\u001b[0;34m\u001b[0m\u001b[0;34m\u001b[0m\u001b[0m\n",
            "\u001b[0;31mTypeError\u001b[0m: Dog() takes no arguments"
          ]
        }
      ]
    },
    {
      "cell_type": "code",
      "source": [
        "class BankAccount:\n",
        "    def __init__(self):\n",
        "        self.__balance = 0  # private attribute\n",
        "\n",
        "    def deposit(self, amount):\n",
        "        if amount > 0:\n",
        "            self.__balance += amount\n",
        "\n",
        "    def get_balance(self):\n",
        "        return self.__balance\n",
        "\n",
        "account = BankAccount()\n",
        "account.deposit(7000)\n",
        "print(account.get_balance())  # Output: 100\n"
      ],
      "metadata": {
        "colab": {
          "base_uri": "https://localhost:8080/"
        },
        "id": "fsvryUn_87Pq",
        "outputId": "8168f983-c31b-405a-e359-bdba08040de7"
      },
      "execution_count": 52,
      "outputs": [
        {
          "output_type": "stream",
          "name": "stdout",
          "text": [
            "7000\n"
          ]
        }
      ]
    },
    {
      "cell_type": "code",
      "source": [
        "class Animal:#inheritance\n",
        "    def speak(self):\n",
        "        return \"I'm an animal!\"\n",
        "\n",
        "class lion(Animal):\n",
        "    def speak(self):\n",
        "        return \"roar!\"\n",
        "\n",
        "animal = Animal()\n",
        "lion = Lion()\n",
        "print(animal.speak())  # Output: I'm an animal!\n",
        "print(lion.speak())  # Output: Meow!\n"
      ],
      "metadata": {
        "colab": {
          "base_uri": "https://localhost:8080/",
          "height": 276
        },
        "id": "mGmhgVha9N3w",
        "outputId": "c1254508-acfa-4335-b0ac-3c3eca55bd57"
      },
      "execution_count": 56,
      "outputs": [
        {
          "output_type": "error",
          "ename": "NameError",
          "evalue": "name 'Lion' is not defined",
          "traceback": [
            "\u001b[0;31m---------------------------------------------------------------------------\u001b[0m",
            "\u001b[0;31mNameError\u001b[0m                                 Traceback (most recent call last)",
            "\u001b[0;32m<ipython-input-56-4acc0920bec2>\u001b[0m in \u001b[0;36m<cell line: 10>\u001b[0;34m()\u001b[0m\n\u001b[1;32m      8\u001b[0m \u001b[0;34m\u001b[0m\u001b[0m\n\u001b[1;32m      9\u001b[0m \u001b[0manimal\u001b[0m \u001b[0;34m=\u001b[0m \u001b[0mAnimal\u001b[0m\u001b[0;34m(\u001b[0m\u001b[0;34m)\u001b[0m\u001b[0;34m\u001b[0m\u001b[0;34m\u001b[0m\u001b[0m\n\u001b[0;32m---> 10\u001b[0;31m \u001b[0mlion\u001b[0m \u001b[0;34m=\u001b[0m \u001b[0mLion\u001b[0m\u001b[0;34m(\u001b[0m\u001b[0;34m)\u001b[0m\u001b[0;34m\u001b[0m\u001b[0;34m\u001b[0m\u001b[0m\n\u001b[0m\u001b[1;32m     11\u001b[0m \u001b[0mprint\u001b[0m\u001b[0;34m(\u001b[0m\u001b[0manimal\u001b[0m\u001b[0;34m.\u001b[0m\u001b[0mspeak\u001b[0m\u001b[0;34m(\u001b[0m\u001b[0;34m)\u001b[0m\u001b[0;34m)\u001b[0m  \u001b[0;31m# Output: I'm an animal!\u001b[0m\u001b[0;34m\u001b[0m\u001b[0;34m\u001b[0m\u001b[0m\n\u001b[1;32m     12\u001b[0m \u001b[0mprint\u001b[0m\u001b[0;34m(\u001b[0m\u001b[0mlion\u001b[0m\u001b[0;34m.\u001b[0m\u001b[0mspeak\u001b[0m\u001b[0;34m(\u001b[0m\u001b[0;34m)\u001b[0m\u001b[0;34m)\u001b[0m  \u001b[0;31m# Output: Meow!\u001b[0m\u001b[0;34m\u001b[0m\u001b[0;34m\u001b[0m\u001b[0m\n",
            "\u001b[0;31mNameError\u001b[0m: name 'Lion' is not defined"
          ]
        }
      ]
    },
    {
      "source": [
        "class Animal:#inheritance\n",
        "    def speak(self):\n",
        "        return \"I'm an animal!\"\n",
        "\n",
        "class Lion(Animal):\n",
        "    def speak(self):\n",
        "        return \"roar!\"\n",
        "\n",
        "class Cat(Animal):\n",
        "    def speak(self):\n",
        "        return \"Meow!\"\n",
        "\n",
        "animal = Animal()\n",
        "lion = Lion()\n",
        "cat = cat()\n",
        "print(animal.speak())  # Output: I'm an animal!\n",
        "print(cat.speak())\n",
        "print(lion.speak()) # Output: roar!"
      ],
      "cell_type": "code",
      "metadata": {
        "colab": {
          "base_uri": "https://localhost:8080/",
          "height": 276
        },
        "id": "hGPo9BvrEKAk",
        "outputId": "62ef57ca-f3e3-427a-9938-c5bb791785fd"
      },
      "execution_count": 60,
      "outputs": [
        {
          "output_type": "error",
          "ename": "TypeError",
          "evalue": "'Lion' object is not callable",
          "traceback": [
            "\u001b[0;31m---------------------------------------------------------------------------\u001b[0m",
            "\u001b[0;31mTypeError\u001b[0m                                 Traceback (most recent call last)",
            "\u001b[0;32m<ipython-input-60-e9350172779d>\u001b[0m in \u001b[0;36m<cell line: 15>\u001b[0;34m()\u001b[0m\n\u001b[1;32m     13\u001b[0m \u001b[0manimal\u001b[0m \u001b[0;34m=\u001b[0m \u001b[0mAnimal\u001b[0m\u001b[0;34m(\u001b[0m\u001b[0;34m)\u001b[0m\u001b[0;34m\u001b[0m\u001b[0;34m\u001b[0m\u001b[0m\n\u001b[1;32m     14\u001b[0m \u001b[0mlion\u001b[0m \u001b[0;34m=\u001b[0m \u001b[0mLion\u001b[0m\u001b[0;34m(\u001b[0m\u001b[0;34m)\u001b[0m\u001b[0;34m\u001b[0m\u001b[0;34m\u001b[0m\u001b[0m\n\u001b[0;32m---> 15\u001b[0;31m \u001b[0mcat\u001b[0m \u001b[0;34m=\u001b[0m \u001b[0mcat\u001b[0m\u001b[0;34m(\u001b[0m\u001b[0;34m)\u001b[0m\u001b[0;34m\u001b[0m\u001b[0;34m\u001b[0m\u001b[0m\n\u001b[0m\u001b[1;32m     16\u001b[0m \u001b[0mprint\u001b[0m\u001b[0;34m(\u001b[0m\u001b[0manimal\u001b[0m\u001b[0;34m.\u001b[0m\u001b[0mspeak\u001b[0m\u001b[0;34m(\u001b[0m\u001b[0;34m)\u001b[0m\u001b[0;34m)\u001b[0m  \u001b[0;31m# Output: I'm an animal!\u001b[0m\u001b[0;34m\u001b[0m\u001b[0;34m\u001b[0m\u001b[0m\n\u001b[1;32m     17\u001b[0m \u001b[0mprint\u001b[0m\u001b[0;34m(\u001b[0m\u001b[0mcat\u001b[0m\u001b[0;34m.\u001b[0m\u001b[0mspeak\u001b[0m\u001b[0;34m(\u001b[0m\u001b[0;34m)\u001b[0m\u001b[0;34m)\u001b[0m\u001b[0;34m\u001b[0m\u001b[0;34m\u001b[0m\u001b[0m\n",
            "\u001b[0;31mTypeError\u001b[0m: 'Lion' object is not callable"
          ]
        }
      ]
    },
    {
      "source": [
        "class Animal:#inheritance\n",
        "    def speak(self):\n",
        "        return \"I'm an animal!\"\n",
        "\n",
        "class Lion(Animal):\n",
        "    def speak(self):\n",
        "        return \"roar!\"\n",
        "\n",
        "class Cat(Animal):\n",
        "    def speak(self):\n",
        "        return \"Meow!\"\n",
        "\n",
        "animal = Animal()\n",
        "lion = Lion()\n",
        "cat = Cat()\n",
        "print(animal.speak())  # Output: I'm an animal!\n",
        "print(cat.speak())\n",
        "print(lion.speak()) # Output: roar!"
      ],
      "cell_type": "code",
      "metadata": {
        "colab": {
          "base_uri": "https://localhost:8080/"
        },
        "id": "0OfahOUmFeGV",
        "outputId": "48b794ae-9c20-42f7-f77c-d2ef0d21510e"
      },
      "execution_count": 61,
      "outputs": [
        {
          "output_type": "stream",
          "name": "stdout",
          "text": [
            "I'm an animal!\n",
            "Meow!\n",
            "roar!\n"
          ]
        }
      ]
    },
    {
      "cell_type": "code",
      "source": [
        "class Bird:#polymorphism\n",
        "    def speak(self):\n",
        "        return \"Tweet!\"\n",
        "\n",
        "class Fish:\n",
        "    def speak(self):\n",
        "        return \"Glub!\"\n",
        "\n",
        "def animal_sound(animal):\n",
        "    print(animal.speak())\n",
        "\n",
        "bird = Bird()\n",
        "fish = Fish()\n",
        "animal_sound(bird)  # Output: Tweet!\n",
        "animal_sound(fish)  # Output: Glub!\n"
      ],
      "metadata": {
        "colab": {
          "base_uri": "https://localhost:8080/"
        },
        "id": "ZsVj3oqlLcZx",
        "outputId": "d7dcd28f-0f85-4f5f-e81b-4582448e3a33"
      },
      "execution_count": 63,
      "outputs": [
        {
          "output_type": "stream",
          "name": "stdout",
          "text": [
            "Tweet!\n",
            "Glub!\n"
          ]
        }
      ]
    },
    {
      "cell_type": "code",
      "source": [
        "from abc import ABC, abstractmethod #encapsulation\n",
        "\n",
        "class Shape(ABC):\n",
        "    @abstractmethod\n",
        "    def area(self):\n",
        "        pass\n",
        "\n",
        "class Circle(Shape):\n",
        "    def __init__(self, radius):\n",
        "        self.radius = radius\n",
        "\n",
        "    def area(self):\n",
        "        return 3.14 * self.radius * self.radius\n",
        "\n",
        "circle = Circle(5)\n",
        "print(circle.area())  # Output: 78.5\n"
      ],
      "metadata": {
        "colab": {
          "base_uri": "https://localhost:8080/"
        },
        "id": "aHcGkqHHMH21",
        "outputId": "20eaf769-190b-49fc-8c03-5c8539e4274e"
      },
      "execution_count": 67,
      "outputs": [
        {
          "output_type": "stream",
          "name": "stdout",
          "text": [
            "78.5\n"
          ]
        }
      ]
    },
    {
      "cell_type": "code",
      "source": [
        "class Math:# does not supports tradition method overloading but we can do that alternatively as discussed in our previous class\n",
        "#using arguments as 2,3 or 2,3,4\n",
        "    def add(self, a, b, c=0):\n",
        "        return a + b + c\n",
        "\n",
        "math = Math()\n",
        "print(math.add(2, 3))  # Output: 5\n",
        "print(math.add(2, 3, 4))  # Output: 9\n"
      ],
      "metadata": {
        "colab": {
          "base_uri": "https://localhost:8080/"
        },
        "id": "BETJn-vmMgqz",
        "outputId": "15a4e096-919c-47c0-8264-8524469846f9"
      },
      "execution_count": 70,
      "outputs": [
        {
          "output_type": "stream",
          "name": "stdout",
          "text": [
            "5\n",
            "9\n"
          ]
        }
      ]
    },
    {
      "cell_type": "code",
      "source": [
        "class Parent:#method overriding\n",
        "    def greet(self):\n",
        "        return \"Hello from Parent\"\n",
        "\n",
        "class Child(Parent):\n",
        "    def greet(self):\n",
        "        return \"Hello from Child\"\n",
        "\n",
        "child = Child()\n",
        "print(child.greet())  # Output: Hello from Child\n"
      ],
      "metadata": {
        "id": "cCY7X8mTNVGq"
      },
      "execution_count": null,
      "outputs": []
    }
  ]
}